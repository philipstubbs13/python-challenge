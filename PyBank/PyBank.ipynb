{
 "cells": [
  {
   "cell_type": "code",
   "execution_count": 1,
   "metadata": {},
   "outputs": [],
   "source": [
    "# Dependencies\n",
    "import pandas as pd"
   ]
  },
  {
   "cell_type": "code",
   "execution_count": 2,
   "metadata": {},
   "outputs": [],
   "source": [
    "# Create a reference to the csv file we want to read.\n",
    "budget_csv = \"Resources/budget_data.csv\""
   ]
  },
  {
   "cell_type": "code",
   "execution_count": 3,
   "metadata": {},
   "outputs": [
    {
     "data": {
      "text/html": [
       "<div>\n",
       "<style scoped>\n",
       "    .dataframe tbody tr th:only-of-type {\n",
       "        vertical-align: middle;\n",
       "    }\n",
       "\n",
       "    .dataframe tbody tr th {\n",
       "        vertical-align: top;\n",
       "    }\n",
       "\n",
       "    .dataframe thead th {\n",
       "        text-align: right;\n",
       "    }\n",
       "</style>\n",
       "<table border=\"1\" class=\"dataframe\">\n",
       "  <thead>\n",
       "    <tr style=\"text-align: right;\">\n",
       "      <th></th>\n",
       "      <th>Date</th>\n",
       "      <th>Profit/Losses</th>\n",
       "    </tr>\n",
       "  </thead>\n",
       "  <tbody>\n",
       "    <tr>\n",
       "      <th>0</th>\n",
       "      <td>Jan-2010</td>\n",
       "      <td>867884</td>\n",
       "    </tr>\n",
       "    <tr>\n",
       "      <th>1</th>\n",
       "      <td>Feb-2010</td>\n",
       "      <td>984655</td>\n",
       "    </tr>\n",
       "    <tr>\n",
       "      <th>2</th>\n",
       "      <td>Mar-2010</td>\n",
       "      <td>322013</td>\n",
       "    </tr>\n",
       "    <tr>\n",
       "      <th>3</th>\n",
       "      <td>Apr-2010</td>\n",
       "      <td>-69417</td>\n",
       "    </tr>\n",
       "    <tr>\n",
       "      <th>4</th>\n",
       "      <td>May-2010</td>\n",
       "      <td>310503</td>\n",
       "    </tr>\n",
       "  </tbody>\n",
       "</table>\n",
       "</div>"
      ],
      "text/plain": [
       "       Date  Profit/Losses\n",
       "0  Jan-2010         867884\n",
       "1  Feb-2010         984655\n",
       "2  Mar-2010         322013\n",
       "3  Apr-2010         -69417\n",
       "4  May-2010         310503"
      ]
     },
     "execution_count": 3,
     "metadata": {},
     "output_type": "execute_result"
    }
   ],
   "source": [
    "# Read the csv\n",
    "budget_df = pd.read_csv(budget_csv)\n",
    "\n",
    "# Print the first 5 rows of data (jupyter notebook only)\n",
    "budget_df.head()\n",
    "\n",
    "# Print data\n",
    "# print(budget_df)"
   ]
  },
  {
   "cell_type": "code",
   "execution_count": 4,
   "metadata": {},
   "outputs": [
    {
     "name": "stdout",
     "output_type": "stream",
     "text": [
      "Total number of months: 86\n"
     ]
    }
   ],
   "source": [
    "# Calculate the total number of months included in the dataset.\n",
    "num_months = budget_df[\"Date\"].count()\n",
    "\n",
    "print(f\"Total number of months: {num_months}\")"
   ]
  },
  {
   "cell_type": "code",
   "execution_count": 5,
   "metadata": {},
   "outputs": [
    {
     "name": "stdout",
     "output_type": "stream",
     "text": [
      "Net total amount of profit/losses: $38382578\n"
     ]
    }
   ],
   "source": [
    "# Calculate the net total amount of \"Profit/Losses\" over the entire period.\n",
    "net_total = budget_df[\"Profit/Losses\"].sum()\n",
    "\n",
    "print(f\"Net total amount of profit/losses: ${net_total}\")"
   ]
  },
  {
   "cell_type": "code",
   "execution_count": 6,
   "metadata": {},
   "outputs": [
    {
     "name": "stdout",
     "output_type": "stream",
     "text": [
      "Average of changes: $-2315.12\n"
     ]
    },
    {
     "data": {
      "text/html": [
       "<div>\n",
       "<style scoped>\n",
       "    .dataframe tbody tr th:only-of-type {\n",
       "        vertical-align: middle;\n",
       "    }\n",
       "\n",
       "    .dataframe tbody tr th {\n",
       "        vertical-align: top;\n",
       "    }\n",
       "\n",
       "    .dataframe thead th {\n",
       "        text-align: right;\n",
       "    }\n",
       "</style>\n",
       "<table border=\"1\" class=\"dataframe\">\n",
       "  <thead>\n",
       "    <tr style=\"text-align: right;\">\n",
       "      <th></th>\n",
       "      <th>Date</th>\n",
       "      <th>Profit/Losses</th>\n",
       "      <th>Difference</th>\n",
       "    </tr>\n",
       "  </thead>\n",
       "  <tbody>\n",
       "    <tr>\n",
       "      <th>0</th>\n",
       "      <td>Jan-2010</td>\n",
       "      <td>867884</td>\n",
       "      <td>NaN</td>\n",
       "    </tr>\n",
       "    <tr>\n",
       "      <th>1</th>\n",
       "      <td>Feb-2010</td>\n",
       "      <td>984655</td>\n",
       "      <td>116771.0</td>\n",
       "    </tr>\n",
       "    <tr>\n",
       "      <th>2</th>\n",
       "      <td>Mar-2010</td>\n",
       "      <td>322013</td>\n",
       "      <td>-662642.0</td>\n",
       "    </tr>\n",
       "    <tr>\n",
       "      <th>3</th>\n",
       "      <td>Apr-2010</td>\n",
       "      <td>-69417</td>\n",
       "      <td>-391430.0</td>\n",
       "    </tr>\n",
       "    <tr>\n",
       "      <th>4</th>\n",
       "      <td>May-2010</td>\n",
       "      <td>310503</td>\n",
       "      <td>379920.0</td>\n",
       "    </tr>\n",
       "  </tbody>\n",
       "</table>\n",
       "</div>"
      ],
      "text/plain": [
       "       Date  Profit/Losses  Difference\n",
       "0  Jan-2010         867884         NaN\n",
       "1  Feb-2010         984655    116771.0\n",
       "2  Mar-2010         322013   -662642.0\n",
       "3  Apr-2010         -69417   -391430.0\n",
       "4  May-2010         310503    379920.0"
      ]
     },
     "execution_count": 6,
     "metadata": {},
     "output_type": "execute_result"
    }
   ],
   "source": [
    "# Calculate the average of the changes in \"Profit/Losses\" over the entire period.\n",
    "\n",
    "# Calculate the difference between two values by subtracting the starting value\n",
    "# from the ending value for each value in the \"Profit/Losses\" column.\n",
    "difference = budget_df['Profit/Losses'].diff()\n",
    "\n",
    "# Add new column for difference.\n",
    "budget_df[\"Difference\"] = difference\n",
    "\n",
    "# Sum up the difference values in the Difference column.\n",
    "sum_of_differences = budget_df[\"Difference\"].sum()\n",
    "\n",
    "# Figure out the number of difference values in the Difference column.\n",
    "num_of_differences = budget_df[\"Difference\"].count()\n",
    "\n",
    "# Calculate average of changes.\n",
    "average_of_changes = sum_of_differences / num_of_differences\n",
    "\n",
    "# Round to two decimal places.\n",
    "average_of_changes = round(average_of_changes, 2)\n",
    "\n",
    "print(f\"Average of changes: ${average_of_changes}\")\n",
    "\n",
    "budget_df.head()"
   ]
  },
  {
   "cell_type": "code",
   "execution_count": 7,
   "metadata": {},
   "outputs": [
    {
     "name": "stdout",
     "output_type": "stream",
     "text": [
      "Greatest increase amount: $1926159.0\n",
      "Greatest increase date: Feb-2012\n"
     ]
    },
    {
     "data": {
      "text/html": [
       "<div>\n",
       "<style scoped>\n",
       "    .dataframe tbody tr th:only-of-type {\n",
       "        vertical-align: middle;\n",
       "    }\n",
       "\n",
       "    .dataframe tbody tr th {\n",
       "        vertical-align: top;\n",
       "    }\n",
       "\n",
       "    .dataframe thead th {\n",
       "        text-align: right;\n",
       "    }\n",
       "</style>\n",
       "<table border=\"1\" class=\"dataframe\">\n",
       "  <thead>\n",
       "    <tr style=\"text-align: right;\">\n",
       "      <th></th>\n",
       "      <th>Date</th>\n",
       "      <th>Profit/Losses</th>\n",
       "      <th>Difference</th>\n",
       "    </tr>\n",
       "  </thead>\n",
       "  <tbody>\n",
       "    <tr>\n",
       "      <th>0</th>\n",
       "      <td>Feb-2012</td>\n",
       "      <td>1170593</td>\n",
       "      <td>1926159.0</td>\n",
       "    </tr>\n",
       "    <tr>\n",
       "      <th>1</th>\n",
       "      <td>Dec-2013</td>\n",
       "      <td>1150461</td>\n",
       "      <td>1838447.0</td>\n",
       "    </tr>\n",
       "    <tr>\n",
       "      <th>2</th>\n",
       "      <td>Aug-2016</td>\n",
       "      <td>569899</td>\n",
       "      <td>1733696.0</td>\n",
       "    </tr>\n",
       "    <tr>\n",
       "      <th>3</th>\n",
       "      <td>Sep-2012</td>\n",
       "      <td>475062</td>\n",
       "      <td>1497596.0</td>\n",
       "    </tr>\n",
       "    <tr>\n",
       "      <th>4</th>\n",
       "      <td>Oct-2013</td>\n",
       "      <td>268997</td>\n",
       "      <td>1465222.0</td>\n",
       "    </tr>\n",
       "  </tbody>\n",
       "</table>\n",
       "</div>"
      ],
      "text/plain": [
       "       Date  Profit/Losses  Difference\n",
       "0  Feb-2012        1170593   1926159.0\n",
       "1  Dec-2013        1150461   1838447.0\n",
       "2  Aug-2016         569899   1733696.0\n",
       "3  Sep-2012         475062   1497596.0\n",
       "4  Oct-2013         268997   1465222.0"
      ]
     },
     "execution_count": 7,
     "metadata": {},
     "output_type": "execute_result"
    }
   ],
   "source": [
    "# Calculate the greatest increase in profits (date and amount) over the entire period\n",
    "\n",
    "# Sort dataset in descending order to find greatest increase in profits.\n",
    "budget_df_descending = budget_df.sort_values(\"Difference\", ascending=False)\n",
    "\n",
    "# Reset index.\n",
    "budget_df_descending = budget_df_descending.reset_index(drop=True)\n",
    "\n",
    "# Find greatest increase amount value and store in variable.\n",
    "greatest_increase_amount = budget_df_descending.iloc[0][\"Difference\"]\n",
    "\n",
    "# Find greatest increase date value and store in variable.\n",
    "greatest_increase_date = budget_df_descending.iloc[0][\"Date\"]\n",
    "\n",
    "print(f\"Greatest increase amount: ${greatest_increase_amount}\")\n",
    "print(f\"Greatest increase date: {greatest_increase_date}\")\n",
    "\n",
    "budget_df_descending.head()"
   ]
  },
  {
   "cell_type": "code",
   "execution_count": 8,
   "metadata": {},
   "outputs": [
    {
     "name": "stdout",
     "output_type": "stream",
     "text": [
      "Greatest decrease amount: $-2196167.0\n",
      "Greatest decrease date: Sep-2013\n"
     ]
    },
    {
     "data": {
      "text/html": [
       "<div>\n",
       "<style scoped>\n",
       "    .dataframe tbody tr th:only-of-type {\n",
       "        vertical-align: middle;\n",
       "    }\n",
       "\n",
       "    .dataframe tbody tr th {\n",
       "        vertical-align: top;\n",
       "    }\n",
       "\n",
       "    .dataframe thead th {\n",
       "        text-align: right;\n",
       "    }\n",
       "</style>\n",
       "<table border=\"1\" class=\"dataframe\">\n",
       "  <thead>\n",
       "    <tr style=\"text-align: right;\">\n",
       "      <th></th>\n",
       "      <th>Date</th>\n",
       "      <th>Profit/Losses</th>\n",
       "      <th>Difference</th>\n",
       "    </tr>\n",
       "  </thead>\n",
       "  <tbody>\n",
       "    <tr>\n",
       "      <th>0</th>\n",
       "      <td>Sep-2013</td>\n",
       "      <td>-1196225</td>\n",
       "      <td>-2196167.0</td>\n",
       "    </tr>\n",
       "    <tr>\n",
       "      <th>1</th>\n",
       "      <td>Jul-2016</td>\n",
       "      <td>-1163797</td>\n",
       "      <td>-1876758.0</td>\n",
       "    </tr>\n",
       "    <tr>\n",
       "      <th>2</th>\n",
       "      <td>Feb-2016</td>\n",
       "      <td>-1100387</td>\n",
       "      <td>-1750387.0</td>\n",
       "    </tr>\n",
       "    <tr>\n",
       "      <th>3</th>\n",
       "      <td>Aug-2012</td>\n",
       "      <td>-1022534</td>\n",
       "      <td>-1529236.0</td>\n",
       "    </tr>\n",
       "    <tr>\n",
       "      <th>4</th>\n",
       "      <td>Apr-2015</td>\n",
       "      <td>-524626</td>\n",
       "      <td>-1212159.0</td>\n",
       "    </tr>\n",
       "  </tbody>\n",
       "</table>\n",
       "</div>"
      ],
      "text/plain": [
       "       Date  Profit/Losses  Difference\n",
       "0  Sep-2013       -1196225  -2196167.0\n",
       "1  Jul-2016       -1163797  -1876758.0\n",
       "2  Feb-2016       -1100387  -1750387.0\n",
       "3  Aug-2012       -1022534  -1529236.0\n",
       "4  Apr-2015        -524626  -1212159.0"
      ]
     },
     "execution_count": 8,
     "metadata": {},
     "output_type": "execute_result"
    }
   ],
   "source": [
    "# Calculate the greatest decrease in losses (date and amount) over the entire period\n",
    "\n",
    "# Sort dataset in ascending order to find greatest decrease in profits.\n",
    "budget_df_ascending = budget_df.sort_values(\"Difference\")\n",
    "\n",
    "# Reset index\n",
    "budget_df_ascending = budget_df_ascending.reset_index(drop=True)\n",
    "\n",
    "# Find greatest decrease amount value and store in variable.\n",
    "greatest_decrease_amount = budget_df_ascending.iloc[0][\"Difference\"]\n",
    "\n",
    "# Find greatest decrease date value and store in variable.\n",
    "greatest_decrease_date = budget_df_ascending.iloc[0][\"Date\"]\n",
    "\n",
    "print(f\"Greatest decrease amount: ${greatest_decrease_amount}\")\n",
    "print(f\"Greatest decrease date: {greatest_decrease_date}\")\n",
    "\n",
    "budget_df_ascending.head()\n"
   ]
  },
  {
   "cell_type": "code",
   "execution_count": 9,
   "metadata": {},
   "outputs": [
    {
     "name": "stdout",
     "output_type": "stream",
     "text": [
      "-----------------------------------\n",
      "Financial Analysis\n",
      "-----------------------------------\n",
      "Total Months: 86\n",
      "Total: $38,382,578.00\n",
      "Average Change: $-2,315.12\n",
      "Greatest Increase in Profits: Feb-2012, $1,926,159.00\n",
      "Greatest Decrease in Profits: Sep-2013, $-2,196,167.00\n"
     ]
    }
   ],
   "source": [
    "# Print the analysis to the terminal and export a text file with the results.\n",
    "print(\"-----------------------------------\")\n",
    "print(\"Financial Analysis\")\n",
    "print(\"-----------------------------------\")\n",
    "print(f\"Total Months: {num_months}\")\n",
    "print(\"Total: ${:,.2f}\".format(net_total))\n",
    "print(\"Average Change: ${:,.2f}\".format(average_of_changes))\n",
    "print(\"Greatest Increase in Profits: \" + greatest_increase_date + \", ${:,.2f}\".format(greatest_increase_amount))\n",
    "print(\"Greatest Decrease in Profits: \" + greatest_decrease_date + \", ${:,.2f}\".format(greatest_decrease_amount))"
   ]
  },
  {
   "cell_type": "code",
   "execution_count": 10,
   "metadata": {},
   "outputs": [],
   "source": [
    "# Export a text file with the results.\n",
    "with open(\"financial_results.txt\", 'w') as file:\n",
    "\n",
    "    file.write(\"---------------------------------------------------------------\\r\\n\")\n",
    "    file.write(\"Financial Analysis\\r\\n\")\n",
    "    file.write(\"---------------------------------------------------------------\\r\\n\")\n",
    "    file.write(f\"Total Months: {num_months}\\r\\n\")\n",
    "    file.write(\"Total: ${:,.2f}\\r\\n\".format(net_total))\n",
    "    file.write(\"Average Change: ${:,.2f}\\r\\n\".format(average_of_changes))\n",
    "    file.write(\"Greatest Increase in Profits: \" + greatest_increase_date + \", ${:,.2f}\\r\\n\".format(greatest_increase_amount))\n",
    "    file.write(\"Greatest Decrease in Profits: \" + greatest_decrease_date + \", ${:,.2f}\\r\\n\".format(greatest_decrease_amount))"
   ]
  }
 ],
 "metadata": {
  "kernelspec": {
   "display_name": "Python 3",
   "language": "python",
   "name": "python3"
  },
  "language_info": {
   "codemirror_mode": {
    "name": "ipython",
    "version": 3
   },
   "file_extension": ".py",
   "mimetype": "text/x-python",
   "name": "python",
   "nbconvert_exporter": "python",
   "pygments_lexer": "ipython3",
   "version": "3.6.9"
  }
 },
 "nbformat": 4,
 "nbformat_minor": 2
}
