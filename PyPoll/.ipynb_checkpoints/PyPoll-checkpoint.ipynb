{
 "cells": [
  {
   "cell_type": "code",
   "execution_count": 18,
   "metadata": {},
   "outputs": [],
   "source": [
    "# Dependencies\n",
    "import pandas as pd\n",
    "import os"
   ]
  },
  {
   "cell_type": "code",
   "execution_count": 2,
   "metadata": {},
   "outputs": [],
   "source": [
    "# Create reference to the csv file\n",
    "csv_file = \"Resources/election_data.csv\""
   ]
  },
  {
   "cell_type": "code",
   "execution_count": 3,
   "metadata": {},
   "outputs": [
    {
     "data": {
      "text/html": [
       "<div>\n",
       "<style scoped>\n",
       "    .dataframe tbody tr th:only-of-type {\n",
       "        vertical-align: middle;\n",
       "    }\n",
       "\n",
       "    .dataframe tbody tr th {\n",
       "        vertical-align: top;\n",
       "    }\n",
       "\n",
       "    .dataframe thead th {\n",
       "        text-align: right;\n",
       "    }\n",
       "</style>\n",
       "<table border=\"1\" class=\"dataframe\">\n",
       "  <thead>\n",
       "    <tr style=\"text-align: right;\">\n",
       "      <th></th>\n",
       "      <th>Voter ID</th>\n",
       "      <th>County</th>\n",
       "      <th>Candidate</th>\n",
       "    </tr>\n",
       "  </thead>\n",
       "  <tbody>\n",
       "    <tr>\n",
       "      <th>0</th>\n",
       "      <td>12864552</td>\n",
       "      <td>Marsh</td>\n",
       "      <td>Khan</td>\n",
       "    </tr>\n",
       "    <tr>\n",
       "      <th>1</th>\n",
       "      <td>17444633</td>\n",
       "      <td>Marsh</td>\n",
       "      <td>Correy</td>\n",
       "    </tr>\n",
       "    <tr>\n",
       "      <th>2</th>\n",
       "      <td>19330107</td>\n",
       "      <td>Marsh</td>\n",
       "      <td>Khan</td>\n",
       "    </tr>\n",
       "    <tr>\n",
       "      <th>3</th>\n",
       "      <td>19865775</td>\n",
       "      <td>Queen</td>\n",
       "      <td>Khan</td>\n",
       "    </tr>\n",
       "    <tr>\n",
       "      <th>4</th>\n",
       "      <td>11927875</td>\n",
       "      <td>Marsh</td>\n",
       "      <td>Khan</td>\n",
       "    </tr>\n",
       "  </tbody>\n",
       "</table>\n",
       "</div>"
      ],
      "text/plain": [
       "   Voter ID County Candidate\n",
       "0  12864552  Marsh      Khan\n",
       "1  17444633  Marsh    Correy\n",
       "2  19330107  Marsh      Khan\n",
       "3  19865775  Queen      Khan\n",
       "4  11927875  Marsh      Khan"
      ]
     },
     "execution_count": 3,
     "metadata": {},
     "output_type": "execute_result"
    }
   ],
   "source": [
    "# Read in csv using pandas\n",
    "election_data_df = pd.read_csv(csv_file)\n",
    "\n",
    "# Print the first 5 lines of dataframe.\n",
    "election_data_df.head()"
   ]
  },
  {
   "cell_type": "code",
   "execution_count": 5,
   "metadata": {},
   "outputs": [
    {
     "name": "stdout",
     "output_type": "stream",
     "text": [
      "Total number of votes cast: 3521001\n"
     ]
    }
   ],
   "source": [
    "# Calculate the total number of votes cast\n",
    "num_votes = election_data_df[\"Voter ID\"].count()\n",
    "\n",
    "print(f\"Total number of votes cast: {num_votes}\")"
   ]
  },
  {
   "cell_type": "code",
   "execution_count": 6,
   "metadata": {},
   "outputs": [
    {
     "data": {
      "text/plain": [
       "array(['Khan', 'Correy', 'Li', \"O'Tooley\"], dtype=object)"
      ]
     },
     "execution_count": 6,
     "metadata": {},
     "output_type": "execute_result"
    }
   ],
   "source": [
    "# Get a complete list of candidates who received votes\n",
    "list_candidates = election_data_df[\"Candidate\"].unique()\n",
    "\n",
    "list_candidates"
   ]
  },
  {
   "cell_type": "code",
   "execution_count": 7,
   "metadata": {},
   "outputs": [
    {
     "name": "stdout",
     "output_type": "stream",
     "text": [
      "[2218231, 704200, 492940, 105630]\n"
     ]
    }
   ],
   "source": [
    "# Calculate the total number of votes each candidate won\n",
    "num_votes_list = []\n",
    "for candidate in list_candidates:\n",
    "    votes_for_candidate_df = election_data_df.loc[election_data_df[\"Candidate\"] == candidate]\n",
    "    num_votes_candidate = votes_for_candidate_df[\"Voter ID\"].count()\n",
    "    num_votes_list.append(num_votes_candidate)\n",
    "    \n",
    "print(num_votes_list)"
   ]
  },
  {
   "cell_type": "code",
   "execution_count": 8,
   "metadata": {},
   "outputs": [
    {
     "name": "stdout",
     "output_type": "stream",
     "text": [
      "[63.0, 20.0, 14.0, 3.0]\n"
     ]
    }
   ],
   "source": [
    "# Calculate the percentage of votes each candidate won\n",
    "percent_votes_list = []\n",
    "for vote_count in num_votes_list:\n",
    "    percent_votes_candidate = (vote_count / num_votes) * 100\n",
    "    percent_votes_candidate = round(percent_votes_candidate, 2)\n",
    "    percent_votes_list.append(percent_votes_candidate)\n",
    "    \n",
    "print(percent_votes_list)"
   ]
  },
  {
   "cell_type": "code",
   "execution_count": 9,
   "metadata": {},
   "outputs": [
    {
     "name": "stdout",
     "output_type": "stream",
     "text": [
      "Winner: Khan\n"
     ]
    },
    {
     "data": {
      "text/html": [
       "<div>\n",
       "<style scoped>\n",
       "    .dataframe tbody tr th:only-of-type {\n",
       "        vertical-align: middle;\n",
       "    }\n",
       "\n",
       "    .dataframe tbody tr th {\n",
       "        vertical-align: top;\n",
       "    }\n",
       "\n",
       "    .dataframe thead th {\n",
       "        text-align: right;\n",
       "    }\n",
       "</style>\n",
       "<table border=\"1\" class=\"dataframe\">\n",
       "  <thead>\n",
       "    <tr style=\"text-align: right;\">\n",
       "      <th></th>\n",
       "      <th>Candidates</th>\n",
       "      <th>Number of Votes</th>\n",
       "      <th>Percentage of Votes (%)</th>\n",
       "    </tr>\n",
       "  </thead>\n",
       "  <tbody>\n",
       "    <tr>\n",
       "      <th>0</th>\n",
       "      <td>Khan</td>\n",
       "      <td>2218231</td>\n",
       "      <td>63.0</td>\n",
       "    </tr>\n",
       "    <tr>\n",
       "      <th>1</th>\n",
       "      <td>Correy</td>\n",
       "      <td>704200</td>\n",
       "      <td>20.0</td>\n",
       "    </tr>\n",
       "    <tr>\n",
       "      <th>2</th>\n",
       "      <td>Li</td>\n",
       "      <td>492940</td>\n",
       "      <td>14.0</td>\n",
       "    </tr>\n",
       "    <tr>\n",
       "      <th>3</th>\n",
       "      <td>O'Tooley</td>\n",
       "      <td>105630</td>\n",
       "      <td>3.0</td>\n",
       "    </tr>\n",
       "  </tbody>\n",
       "</table>\n",
       "</div>"
      ],
      "text/plain": [
       "  Candidates  Number of Votes  Percentage of Votes (%)\n",
       "0       Khan          2218231                     63.0\n",
       "1     Correy           704200                     20.0\n",
       "2         Li           492940                     14.0\n",
       "3   O'Tooley           105630                      3.0"
      ]
     },
     "execution_count": 9,
     "metadata": {},
     "output_type": "execute_result"
    }
   ],
   "source": [
    "# Calculate the winner of the election based on popular vote.\n",
    "\n",
    "# Construct dictionary of lists to get election results.\n",
    "election_results_dict = {\n",
    "    \"Candidates\": list_candidates,\n",
    "    \"Number of Votes\": num_votes_list,\n",
    "    \"Percentage of Votes (%)\": percent_votes_list\n",
    "}\n",
    "\n",
    "# Create dataframe from dictionary of lists.\n",
    "election_results_df = pd.DataFrame(election_results_dict)\n",
    "\n",
    "# Sort results in descending order to determine winner.\n",
    "election_results_descending_df = election_results_df.sort_values(\"Number of Votes\", ascending=False)\n",
    "\n",
    "# Reset index of sorted results.\n",
    "election_results_descending_df = election_results_descending_df.reset_index(drop=True)\n",
    "\n",
    "# Store winner in variable.\n",
    "winner = election_results_descending_df.iloc[0]['Candidates']\n",
    "print(f\"Winner: {winner}\")\n",
    "\n",
    "# Print results in descending order.\n",
    "election_results_descending_df"
   ]
  },
  {
   "cell_type": "code",
   "execution_count": 12,
   "metadata": {
    "scrolled": true
   },
   "outputs": [
    {
     "name": "stdout",
     "output_type": "stream",
     "text": [
      "Election Results\n",
      "---------------------------------------------------------------\n",
      "Total votes: 3521001\n",
      "---------------------------------------------------------------\n",
      "Candidates  Number of Votes  Percentage of Votes (%)\n",
      "      Khan          2218231                     63.0\n",
      "    Correy           704200                     20.0\n",
      "        Li           492940                     14.0\n",
      "  O'Tooley           105630                      3.0\n",
      "---------------------------------------------------------------\n",
      "Winner: Khan\n",
      "---------------------------------------------------------------\n"
     ]
    }
   ],
   "source": [
    "# Print analysis\n",
    "\n",
    "print(\"Election Results\")\n",
    "print(\"---------------------------------------------------------------\")\n",
    "print(f\"Total votes: {num_votes}\")\n",
    "print(\"---------------------------------------------------------------\")\n",
    "print(election_results_descending_df.to_string(index=False))\n",
    "print(\"---------------------------------------------------------------\")\n",
    "print(f\"Winner: {winner}\")\n",
    "print(\"---------------------------------------------------------------\")"
   ]
  },
  {
   "cell_type": "code",
   "execution_count": 21,
   "metadata": {},
   "outputs": [],
   "source": [
    "# Export a text file with the results.\n",
    "with open(\"election_results.txt\", 'w') as file:\n",
    "\n",
    "    file.write(\"Election Results\\r\\n\")\n",
    "    file.write(\"---------------------------------------------------------------\\r\\n\")\n",
    "    file.write(f\"Total votes: {num_votes}\\r\\n\")\n",
    "    file.write(\"---------------------------------------------------------------\\r\\n\")\n",
    "    file.write(election_results_descending_df.to_string(index=False))\n",
    "    file.write(\"---------------------------------------------------------------\\r\\n\")\n",
    "    file.write(f\"Winner: {winner}\\r\\n\")\n",
    "    file.write(\"---------------------------------------------------------------\\r\\n\")"
   ]
  }
 ],
 "metadata": {
  "kernelspec": {
   "display_name": "Python 3",
   "language": "python",
   "name": "python3"
  },
  "language_info": {
   "codemirror_mode": {
    "name": "ipython",
    "version": 3
   },
   "file_extension": ".py",
   "mimetype": "text/x-python",
   "name": "python",
   "nbconvert_exporter": "python",
   "pygments_lexer": "ipython3",
   "version": "3.6.9"
  }
 },
 "nbformat": 4,
 "nbformat_minor": 2
}
